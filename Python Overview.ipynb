{
 "cells": [
  {
   "cell_type": "markdown",
   "id": "9c348a01",
   "metadata": {},
   "source": [
    "# Introduction to Python for Data Science\n",
    "\n",
    "Welcome to our introductory Jupyter Notebook on Python for Data Science! This notebook is designed to guide you through the basics of handling, manipulating, and visualizing data using Python. Our goal is to equip you with the essential skills needed to begin your data science journey.\n",
    "\n",
    "## Objective\n",
    "\n",
    "The primary objective of this notebook is to:\n",
    "- Introduce you to the fundamental programming concepts and techniques in Python that are crucial for data science.\n",
    "- Provide hands-on experience with data importation, manipulation, analysis, and visualization.\n",
    "- Prepare you to tackle more complex data science problems with confidence.\n",
    "\n",
    "## Tools and Libraries\n",
    "\n",
    "In this course, we will primarily use the following Python libraries:\n",
    "- **Pandas**: For data manipulation and analysis.\n",
    "- **NumPy**: For numerical operations.\n",
    "- **Matplotlib**: For creating static, interactive, and animated visualizations in Python.\n",
    "- **Seaborn**: For making attractive and informative statistical graphics.\n",
    "\n",
    "These libraries are part of the Python ecosystem for data science and provide robust solutions for data analysis and visualization.\n",
    "\n",
    "## Choosing a Development Environment\n",
    "\n",
    "While you are free to use any Python environment that suits your needs, we recommend considering the following options based on your familiarity with programming and the specifications of your computer:\n",
    "\n",
    "- **[Google Colab](https://colab.research.google.com/)**: A cloud-based Python notebook service that is excellent for beginners and those without access to powerful computers. Benefits include:\n",
    "  - **No Setup Required**: Runs in the cloud with no setup.\n",
    "  - **Free Access to GPUs**: Helps in processing large datasets faster.\n",
    "  - **Easy Sharing**: Facilitates collaboration with easy sharing features.\n",
    "  - **Integration with Google Drive**: Allows you to access your notebooks from anywhere.\n",
    "  - **Pre-installed Libraries**: Comes with most Python libraries needed for data science.\n",
    "\n",
    "- **[Jupyter Notebook](https://jupyter.org/install)**: Ideal for those who prefer running code locally. It integrates well within the Anaconda distribution and provides a robust environment for developing extensive coding projects.\n",
    "\n",
    "- **[PyCharm](https://www.jetbrains.com/pycharm/download/)**: A powerful IDE for professional developers who need advanced features such as code refactoring, debugging, and testing support.\n",
    "\n",
    "- **[Visual Studio Code (VS Code)](https://code.visualstudio.com/Download)**: Highly customizable and suitable for both beginners and advanced users. It supports a wide range of plugins and extensions for enhanced functionality.\n",
    "\n",
    "Each of these environments has its unique features and capabilities. Feel free to choose one that best fits your personal or project needs.\n",
    "\n",
    "Let's get started with Python for data science!\n"
   ]
  },
  {
   "cell_type": "code",
   "execution_count": 20,
   "id": "ce4756ac",
   "metadata": {},
   "outputs": [
    {
     "name": "stdout",
     "output_type": "stream",
     "text": [
      "Requirement already satisfied: pandas in /opt/anaconda3/lib/python3.11/site-packages (2.1.4)\r\n",
      "Requirement already satisfied: numpy<2,>=1.23.2 in /opt/anaconda3/lib/python3.11/site-packages (from pandas) (1.23.5)\r\n",
      "Requirement already satisfied: python-dateutil>=2.8.2 in /opt/anaconda3/lib/python3.11/site-packages (from pandas) (2.8.2)\r\n",
      "Requirement already satisfied: pytz>=2020.1 in /opt/anaconda3/lib/python3.11/site-packages (from pandas) (2023.3.post1)\r\n",
      "Requirement already satisfied: tzdata>=2022.1 in /opt/anaconda3/lib/python3.11/site-packages (from pandas) (2023.3)\r\n",
      "Requirement already satisfied: six>=1.5 in /opt/anaconda3/lib/python3.11/site-packages (from python-dateutil>=2.8.2->pandas) (1.16.0)\r\n"
     ]
    }
   ],
   "source": [
    "!pip install pandas"
   ]
  },
  {
   "cell_type": "markdown",
   "id": "dde87b14",
   "metadata": {},
   "source": [
    "# Installing Python Libraries\n",
    "\n",
    "Python libraries are integral to data science, offering reusable code for tasks ranging from data manipulation to complex data visualization. To effectively use these libraries, you must first install them. This section will guide you through several methods to install Python libraries, with a focus on using Jupyter Notebooks as well as instructions for other environments.\n",
    "\n",
    "## Methods for Installing Libraries\n",
    "\n",
    "### 1. Using `!pip install` in Jupyter Notebooks\n",
    "\n",
    "Jupyter Notebook allows you to run shell commands directly from the notebook cells by prefixing the command with an exclamation point (`!`). This feature can be used to install Python libraries directly within your notebook.\n",
    "\n",
    "- **Example**: To install the Pandas library, you would use the following command in a Jupyter notebook cell:\n",
    "  ```python\n",
    "  !pip install pandas\n",
    "  ```"
   ]
  },
  {
   "cell_type": "markdown",
   "id": "0f646b07",
   "metadata": {},
   "source": [
    "### 2. Using pip in the Command Line\n",
    "\n",
    "For users working in environments other than Jupyter, such as PyCharm or Visual Studio Code, libraries can be installed using the command line or terminal.\n",
    "\n",
    "- **Open your Command Line Interface (CLI)**:\n",
    "  - On Windows, you can use Command Prompt or PowerShell.\n",
    "  - On macOS or Linux, open the Terminal.\n",
    "\n",
    "- **Install a Library**:\n",
    "  ```bash\n",
    "  pip install library-name\n",
    "  ```\n",
    "- Replace library-name with the name of the library you wish to install, such as numpy.  "
   ]
  },
  {
   "cell_type": "markdown",
   "id": "23240479",
   "metadata": {},
   "source": [
    "### 3. Using Anaconda Navigator (for Anaconda Users)\n",
    "\n",
    "If you are using the Anaconda distribution, you can manage libraries using Anaconda Navigator, a graphical user interface that allows you to manage conda packages, environments, and more.\n",
    "\n",
    "- **Open Anaconda Navigator**:\n",
    "  - Find Anaconda Navigator in your Start Menu (Windows) or Applications folder (macOS).\n",
    "\n",
    "- **Install a Library**:\n",
    "  - Navigate to the \"Environments\" tab.\n",
    "  - Select your environment or create a new one.\n",
    "  - Search for the library in the \"Packages\" search bar, select it, and click on \"Apply\" to install.\n"
   ]
  },
  {
   "cell_type": "markdown",
   "id": "897a66e8",
   "metadata": {},
   "source": [
    "### 4. Using Conda in the Command Line (for Anaconda Users)\n",
    "\n",
    "Conda is a package manager that comes with Anaconda. It can be used to install packages from the Anaconda repository, which often has pre-compiled packages for scientific computing.\n",
    "\n",
    "- **Install a Library**:\n",
    "  ```bash\n",
    "  conda install library-name\n",
    "  ```\n",
    "- This command installs the library using Conda, which may handle dependencies differently from pip. Replace `library-name` with the name of the library you wish to install, such as `scipy`.\n"
   ]
  },
  {
   "cell_type": "code",
   "execution_count": null,
   "id": "41fce0e5",
   "metadata": {},
   "outputs": [],
   "source": []
  },
  {
   "cell_type": "markdown",
   "id": "51e88f08",
   "metadata": {},
   "source": [
    "# Understanding and Using Python Libraries\n",
    "\n",
    "In data science, libraries are collections of pre-written code that you can use to perform common tasks, instead of writing your own code from scratch. Libraries can include a variety of tools, from data manipulation and calculation functions to visualization frameworks. Below, we'll cover some essential libraries used in Python for data science: Pandas, NumPy, Matplotlib, and Seaborn.\n",
    "\n",
    "## Essential Python Libraries for Data Science\n",
    "\n",
    "### Pandas\n",
    "- **Purpose**: Pandas is used for data manipulation and analysis. It provides data structures and operations for manipulating numerical tables and time series.\n",
    "- **Installation**:"
   ]
  },
  {
   "cell_type": "code",
   "execution_count": 21,
   "id": "b18dddd6",
   "metadata": {},
   "outputs": [],
   "source": [
    "#!pip install pandas"
   ]
  },
  {
   "cell_type": "code",
   "execution_count": 22,
   "id": "37996fd1",
   "metadata": {},
   "outputs": [
    {
     "name": "stdout",
     "output_type": "stream",
     "text": [
      "   age  ed  employ  address  income  debtinc   creddebt   othdebt  default\n",
      "0   41   3      17       12     176      9.3  11.359392  5.008608        1\n",
      "1   27   1      10        6      31     17.3   1.362202  4.000798        0\n",
      "2   40   1      15       14      55      5.5   0.856075  2.168925        0\n",
      "3   41   1      15       14     120      2.9   2.658720  0.821280        0\n",
      "4   24   2       2        0      28     17.3   1.787436  3.056564        1\n"
     ]
    }
   ],
   "source": [
    "#Pandas Library Example:\n",
    "import pandas as pd\n",
    "data = pd.read_csv('/Users/faresmo/Desktop/dataset2.csv')  # Load a CSV file into a DataFrame\n",
    "print(data.head())  # Print the first five rows of the DataFrame"
   ]
  },
  {
   "cell_type": "markdown",
   "id": "68f650b4",
   "metadata": {},
   "source": [
    "### NumPy\n",
    "- **Purpose**: NumPy is fundamental for scientific computing with Python. It supports large, multi-dimensional arrays and matrices, along with a large collection of high-level mathematical functions to operate on these arrays.\n",
    "- **Installation**:"
   ]
  },
  {
   "cell_type": "code",
   "execution_count": 23,
   "id": "0bce2c70",
   "metadata": {},
   "outputs": [],
   "source": [
    "#!pip install numpy"
   ]
  },
  {
   "cell_type": "code",
   "execution_count": 24,
   "id": "514ec813",
   "metadata": {},
   "outputs": [
    {
     "name": "stdout",
     "output_type": "stream",
     "text": [
      "Average Income (in thousands of dollars): 45.60142857142857\n"
     ]
    }
   ],
   "source": [
    "#NumPy Library Example:\n",
    "import numpy as np\n",
    "# Convert a relevant column to a NumPy array\n",
    "income = np.array(data['income'])\n",
    "\n",
    "average_income = np.mean(income)\n",
    "print(\"Average Income (in thousands of dollars):\", average_income)\n"
   ]
  },
  {
   "cell_type": "markdown",
   "id": "951b801b",
   "metadata": {},
   "source": [
    "### Matplotlib\n",
    "- **Purpose**: Matplotlib is a plotting library for the Python programming language and its numerical mathematics extension NumPy. It provides an object-oriented API for embedding plots into applications.\n",
    "- **Installation**:"
   ]
  },
  {
   "cell_type": "code",
   "execution_count": 25,
   "id": "b78e4e6f",
   "metadata": {},
   "outputs": [],
   "source": [
    "#!pip install matplotlib"
   ]
  },
  {
   "cell_type": "code",
   "execution_count": 26,
   "id": "4052ac22",
   "metadata": {},
   "outputs": [
    {
     "data": {
      "image/png": "[encoded data removed]",
      "text/plain": [
       "<Figure size 1000x600 with 1 Axes>"
      ]
     },
     "metadata": {},
     "output_type": "display_data"
    }
   ],
   "source": [
    "#MatPlotLib Library Example:\n",
    "import matplotlib.pyplot as plt\n",
    "\n",
    "plt.figure(figsize=(10,6))\n",
    "plt.hist(data['income'], bins=30, color='blue', alpha=0.7)\n",
    "plt.title('Distribution of Income')\n",
    "plt.xlabel('Income')\n",
    "plt.ylabel('Frequency')\n",
    "plt.show()"
   ]
  },
  {
   "cell_type": "code",
   "execution_count": null,
   "id": "e0890234",
   "metadata": {},
   "outputs": [],
   "source": []
  },
  {
   "cell_type": "markdown",
   "id": "49af45b5",
   "metadata": {},
   "source": [
    "# Working with the Lending Club Dataset\n",
    "\n",
    "In this section of our notebook, we will introduce and utilize the Lending Club dataset. This dataset is widely used in risk analytics, specifically for modeling and predicting loan defaults. Understanding and predicting defaults is crucial for any financial institution as it directly impacts their decision-making process regarding loan approvals.\n",
    "\n",
    "## About the Lending Club Dataset\n",
    "\n",
    "The Lending Club dataset contains information about various loans issued along with details about the borrowers such as loan amount, interest rate, loan grade, employment history, and more. This rich dataset provides a comprehensive foundation for building predictive models that can estimate the likelihood of default based on various borrower and loan attributes.\n",
    "\n",
    "## Purpose of This Dataset in Our Course\n",
    "\n",
    "We will use this dataset as a practical case study to:\n",
    "- Demonstrate the process of loading data into a Python environment using Pandas.\n",
    "- Explore and manipulate the data to understand underlying patterns and structures.\n",
    "- Apply preprocessing techniques to prepare the dataset for modeling.\n",
    "- Develop a machine learning model to predict whether a loan will default, based on historical data.\n",
    "\n",
    "This hands-on experience will not only enhance your technical skills but also give you insights into how data science is applied in the financial sector to make informed decisions."
   ]
  },
  {
   "cell_type": "code",
   "execution_count": null,
   "id": "a7a1e1f4",
   "metadata": {},
   "outputs": [],
   "source": []
  },
  {
   "cell_type": "markdown",
   "id": "f0b9ecc3",
   "metadata": {},
   "source": [
    "# Getting Data into Your Python Environment\n",
    "\n",
    "Data acquisition is a critical first step in the data science workflow. We will review two common methods to get data into your Python environment: from a local file and from a web URL.\n",
    "\n",
    "## Loading Data from a Local File\n",
    "\n",
    "### Step 1: Place the File in Your Working Directory\n",
    "\n",
    "Before you can load the data, you need to ensure that the file (`dataset.xlsx`) is accessible from your Python environment. This typically means placing it in the current working directory where your Jupyter notebook is running or providing the path to where the file is stored."
   ]
  },
  {
   "cell_type": "code",
   "execution_count": 27,
   "id": "2de32321",
   "metadata": {},
   "outputs": [
    {
     "name": "stdout",
     "output_type": "stream",
     "text": [
      "/Users/faresmo/Desktop\n"
     ]
    }
   ],
   "source": [
    "#You can check your current working directory using:\n",
    "import os\n",
    "print(os.getcwd())"
   ]
  },
  {
   "cell_type": "markdown",
   "id": "ab917a77",
   "metadata": {},
   "source": [
    "### Step 2: Load the File into a DataFrame\n",
    "Once the file is in the correct location, you can use Pandas to load it into a DataFrame:"
   ]
  },
  {
   "cell_type": "code",
   "execution_count": 28,
   "id": "4f1d99ec",
   "metadata": {},
   "outputs": [
    {
     "name": "stdout",
     "output_type": "stream",
     "text": [
      "   age  ed  employ  address  income  debtinc   creddebt   othdebt  default\n",
      "0   41   3      17       12     176      9.3  11.359392  5.008608        1\n",
      "1   27   1      10        6      31     17.3   1.362202  4.000798        0\n",
      "2   40   1      15       14      55      5.5   0.856075  2.168925        0\n",
      "3   41   1      15       14     120      2.9   2.658720  0.821280        0\n",
      "4   24   2       2        0      28     17.3   1.787436  3.056564        1\n"
     ]
    }
   ],
   "source": [
    "import pandas as pd\n",
    "data = pd.read_excel('dataset.xlsx')\n",
    "print(data.head())  # Display the first few rows of the DataFrame to verify it's loaded correctly"
   ]
  },
  {
   "cell_type": "code",
   "execution_count": null,
   "id": "7145d3f9",
   "metadata": {},
   "outputs": [],
   "source": []
  },
  {
   "cell_type": "markdown",
   "id": "4c9e2681",
   "metadata": {},
   "source": [
    "Ensure that the file name matches exactly, including the extension.\n",
    "\n",
    "## Loading Data from a Web URL\n",
    "### Step 1: Identify the URL\n",
    "The URL must point directly to a downloadable data file, typically in formats such as CSV, JSON, or Excel. For our example, we'll use a sample CSV file hosted online.\n",
    "\n",
    "### Step 2: Load the Data into a DataFrame\n",
    "Pandas can directly load data from a URL, provided it is in the right format:"
   ]
  },
  {
   "cell_type": "code",
   "execution_count": 29,
   "id": "610a4f8f",
   "metadata": {},
   "outputs": [
    {
     "name": "stdout",
     "output_type": "stream",
     "text": [
      "       id  host_id  host_since  host_response_time host_response_rate  \\\n",
      "0  2515.0   2758.0    9/6/2008  within a few hours                70%   \n",
      "1  2539.0   2787.0    9/7/2008      within an hour               100%   \n",
      "2  2595.0   2845.0    9/9/2008  within a few hours                82%   \n",
      "3  3330.0   4177.0   11/9/2008        within a day               100%   \n",
      "4  3647.0   4632.0  11/25/2008                 NaN                NaN   \n",
      "\n",
      "  host_is_superhost  host_listings_count host_has_profile_pic  \\\n",
      "0                 t                  3.0                    t   \n",
      "1                 t                  8.0                    t   \n",
      "2                 f                  5.0                    t   \n",
      "3                 f                  4.0                    t   \n",
      "4                 f                  1.0                    t   \n",
      "\n",
      "  host_identity_verified neighbourhood_cleansed  ... review_scores_checkin  \\\n",
      "0                      t                 Harlem  ...                  10.0   \n",
      "1                      t             Kensington  ...                  10.0   \n",
      "2                      t                Midtown  ...                  10.0   \n",
      "3                      t           Williamsburg  ...                  10.0   \n",
      "4                      t                 Harlem  ...                   NaN   \n",
      "\n",
      "  review_scores_communication  review_scores_location  review_scores_value  \\\n",
      "0                         9.0                     9.0                  9.0   \n",
      "1                        10.0                    10.0                 10.0   \n",
      "2                        10.0                    10.0                  9.0   \n",
      "3                        10.0                    10.0                 10.0   \n",
      "4                         NaN                     NaN                  NaN   \n",
      "\n",
      "   instant_bookable          cancellation_policy  \\\n",
      "0                 f  strict_14_with_grace_period   \n",
      "1                 f                     moderate   \n",
      "2                 f  strict_14_with_grace_period   \n",
      "3                 f  strict_14_with_grace_period   \n",
      "4                 f  strict_14_with_grace_period   \n",
      "\n",
      "  require_guest_profile_picture require_guest_phone_verification  \\\n",
      "0                             f                                f   \n",
      "1                             f                                f   \n",
      "2                             t                                t   \n",
      "3                             f                                f   \n",
      "4                             t                                t   \n",
      "\n",
      "   calculated_host_listings_count  reviews_per_month  \n",
      "0                             3.0               1.42  \n",
      "1                             8.0               0.25  \n",
      "2                             2.0               0.37  \n",
      "3                             3.0               0.35  \n",
      "4                             1.0                NaN  \n",
      "\n",
      "[5 rows x 54 columns]\n"
     ]
    }
   ],
   "source": [
    "import pandas as pd\n",
    "\n",
    "url = 'https://raw.githubusercontent.com/Gearhj/End-to-End-Data-Science/master/listings_clean.csv'\n",
    "\n",
    "url_data = pd.read_csv(url)\n",
    "print(url_data.head())  # Display the first few rows of the DataFrame to verify it's loaded correctly"
   ]
  },
  {
   "cell_type": "markdown",
   "id": "e9ff666a",
   "metadata": {},
   "source": [
    "This method is especially useful when dealing with frequently updated data, allowing you to get the most current data directly from the source.\n",
    "\n",
    "## Summary\n",
    "By mastering these two methods of data acquisition, you can flexibly choose the most suitable one depending on your data source. Whether working with static data provided in files or dynamic data available through APIs or direct URLs, knowing how to efficiently load this data into your Python environment is a foundational skill in data science."
   ]
  },
  {
   "cell_type": "code",
   "execution_count": null,
   "id": "b345fcff",
   "metadata": {},
   "outputs": [],
   "source": []
  },
  {
   "cell_type": "markdown",
   "id": "b1488ade",
   "metadata": {},
   "source": [
    "# Data Examination Techniques\n",
    "\n",
    "Once we have loaded our data into the Python environment, the next step is to perform an initial examination to better understand its structure and contents. Here, we'll cover some basic yet powerful Pandas DataFrame methods to examine our data.\n",
    "\n",
    "## Initial Data Inspection\n",
    "\n",
    "### Viewing the First Few Rows with `head`\n",
    "\n",
    "The `head()` method displays the first few rows of the DataFrame. This is useful for getting a quick snapshot of your data."
   ]
  },
  {
   "cell_type": "code",
   "execution_count": 30,
   "id": "847afa16",
   "metadata": {},
   "outputs": [
    {
     "name": "stdout",
     "output_type": "stream",
     "text": [
      "   age  ed  employ  address  income  debtinc   creddebt   othdebt  default\n",
      "0   41   3      17       12     176      9.3  11.359392  5.008608        1\n",
      "1   27   1      10        6      31     17.3   1.362202  4.000798        0\n",
      "2   40   1      15       14      55      5.5   0.856075  2.168925        0\n",
      "3   41   1      15       14     120      2.9   2.658720  0.821280        0\n",
      "4   24   2       2        0      28     17.3   1.787436  3.056564        1\n"
     ]
    }
   ],
   "source": [
    "# Display the first 5 rows of the DataFrame\n",
    "print(data.head())"
   ]
  },
  {
   "cell_type": "markdown",
   "id": "fbf85965",
   "metadata": {},
   "source": [
    "### Viewing the Last Few Rows with tail\n",
    "Similarly, `tail()` shows you the last few rows of the DataFrame. This can be helpful to verify the data after sorting or adding rows."
   ]
  },
  {
   "cell_type": "code",
   "execution_count": 31,
   "id": "553cf9c7",
   "metadata": {},
   "outputs": [
    {
     "name": "stdout",
     "output_type": "stream",
     "text": [
      "     age  ed  employ  address  income  debtinc  creddebt   othdebt  default\n",
      "695   36   2       6       15      27      4.6  0.262062  0.979938        1\n",
      "696   29   2       6        4      21     11.5  0.369495  2.045505        0\n",
      "697   33   1      15        3      32      7.6  0.491264  1.940736        0\n",
      "698   45   1      19       22      77      8.4  2.302608  4.165392        0\n",
      "699   37   1      12       14      44     14.7  2.994684  3.473316        0\n"
     ]
    }
   ],
   "source": [
    "# Display the last 5 rows of the DataFrame\n",
    "print(data.tail())"
   ]
  },
  {
   "cell_type": "markdown",
   "id": "04536979",
   "metadata": {},
   "source": [
    "### Understanding Data Types with dtypes\n",
    "Understanding the data types (`dtypes`) of each column is important because it can affect the type of analysis you can perform."
   ]
  },
  {
   "cell_type": "code",
   "execution_count": 32,
   "id": "49919332",
   "metadata": {},
   "outputs": [
    {
     "name": "stdout",
     "output_type": "stream",
     "text": [
      "age           int64\n",
      "ed            int64\n",
      "employ        int64\n",
      "address       int64\n",
      "income        int64\n",
      "debtinc     float64\n",
      "creddebt    float64\n",
      "othdebt     float64\n",
      "default       int64\n",
      "dtype: object\n"
     ]
    }
   ],
   "source": [
    "# Check the data types of each column\n",
    "print(data.dtypes)"
   ]
  },
  {
   "cell_type": "markdown",
   "id": "1b3a2b6c",
   "metadata": {},
   "source": [
    "### Getting a Summary with describe\n",
    "The `describe()` method gives a summary of the statistics pertaining to the DataFrame columns. This includes count, mean, standard deviation, min, and max values."
   ]
  },
  {
   "cell_type": "code",
   "execution_count": 33,
   "id": "badf43f8",
   "metadata": {},
   "outputs": [
    {
     "name": "stdout",
     "output_type": "stream",
     "text": [
      "              age          ed      employ     address      income     debtinc  \\\n",
      "count  700.000000  700.000000  700.000000  700.000000  700.000000  700.000000   \n",
      "mean    34.860000    1.722857    8.388571    8.278571   45.601429   10.260571   \n",
      "std      7.997342    0.928206    6.658039    6.824877   36.814226    6.827234   \n",
      "min     20.000000    1.000000    0.000000    0.000000   14.000000    0.400000   \n",
      "25%     29.000000    1.000000    3.000000    3.000000   24.000000    5.000000   \n",
      "50%     34.000000    1.000000    7.000000    7.000000   34.000000    8.600000   \n",
      "75%     40.000000    2.000000   12.000000   12.000000   55.000000   14.125000   \n",
      "max     56.000000    5.000000   31.000000   34.000000  446.000000   41.300000   \n",
      "\n",
      "         creddebt     othdebt     default  \n",
      "count  700.000000  700.000000  700.000000  \n",
      "mean     1.553553    3.058209    0.261429  \n",
      "std      2.117197    3.287555    0.439727  \n",
      "min      0.011696    0.045584    0.000000  \n",
      "25%      0.369059    1.044178    0.000000  \n",
      "50%      0.854869    1.987567    0.000000  \n",
      "75%      1.901955    3.923065    1.000000  \n",
      "max     20.561310   27.033600    1.000000  \n"
     ]
    }
   ],
   "source": [
    "# Get a summary of the dataset\n",
    "print(data.describe())"
   ]
  },
  {
   "cell_type": "markdown",
   "id": "65427ccd",
   "metadata": {},
   "source": [
    "By using these methods, we can start forming an understanding of what our dataset contains, what kind of data types we are dealing with, and some basic statistical information about our numeric data. This initial inspection is crucial for determining the next steps in our data analysis and preprocessing workflow."
   ]
  },
  {
   "cell_type": "code",
   "execution_count": null,
   "id": "af70eee4",
   "metadata": {},
   "outputs": [],
   "source": []
  },
  {
   "cell_type": "markdown",
   "id": "45cf155b",
   "metadata": {},
   "source": [
    "# Data Manipulation Techniques\n",
    "\n",
    "This section of the notebook will guide you through data manipulation techniques including filtering and sorting data, creating new columns, handling missing data, and manipulating date and time data.\n",
    "\n",
    "## Filtering and Sorting Data\n",
    "\n",
    "**Filtering Data**:\n",
    "   Filter your DataFrame to only include records based on certain criteria.\n",
    "\n",
    "   Example: Filter to only include loans with income greater than $50,000"
   ]
  },
  {
   "cell_type": "code",
   "execution_count": 34,
   "id": "10b33bc8",
   "metadata": {},
   "outputs": [
    {
     "name": "stdout",
     "output_type": "stream",
     "text": [
      "    age  ed  employ  address  income  debtinc   creddebt    othdebt  default\n",
      "0    41   3      17       12     176      9.3  11.359392   5.008608        1\n",
      "2    40   1      15       14      55      5.5   0.856075   2.168925        0\n",
      "3    41   1      15       14     120      2.9   2.658720   0.821280        0\n",
      "6    39   1      20        9      67     30.6   3.833874  16.668126        0\n",
      "12   52   1      24       14      64     10.0   3.929600   2.470400        0\n"
     ]
    }
   ],
   "source": [
    "filtered_data = data[data['income'] > 50] #Income is represented in thousands of dollars\n",
    "print(filtered_data.head())"
   ]
  },
  {
   "cell_type": "markdown",
   "id": "39c63dba",
   "metadata": {},
   "source": [
    "### Sorting Data:\n",
    "Sort your data by one or more columns."
   ]
  },
  {
   "cell_type": "code",
   "execution_count": 35,
   "id": "31cabeed",
   "metadata": {},
   "outputs": [
    {
     "name": "stdout",
     "output_type": "stream",
     "text": [
      "     age  ed  employ  address  income  debtinc   creddebt    othdebt  default\n",
      "445   56   1      11       20      59     15.0   4.672800   4.177200        0\n",
      "189   55   1      19        2      78     15.6   4.404816   7.763184        0\n",
      "231   55   1       3       11      40      8.0   0.563200   2.636800        1\n",
      "243   54   3      21       20     118     14.4   9.600480   7.391520        0\n",
      "325   54   1      25       12     120     26.5  14.596200  17.203800        1\n"
     ]
    }
   ],
   "source": [
    "# Example: Sort the DataFrame by interest rate in descending order\n",
    "sorted_data = data.sort_values(by='age', ascending=False)\n",
    "print(sorted_data.head())"
   ]
  },
  {
   "cell_type": "code",
   "execution_count": null,
   "id": "05f1f95a",
   "metadata": {},
   "outputs": [],
   "source": []
  },
  {
   "cell_type": "markdown",
   "id": "d237d382",
   "metadata": {},
   "source": [
    "## Creating a New Column by Multiplying Variables\n",
    "\n",
    "Feature engineering can sometimes be as simple as combining existing variables to create a new feature that might have predictive power.\n",
    "\n",
    "### Example: Interaction Feature from 'income' and 'debtinc'\n",
    "\n",
    "Let's create a new column called 'income_debt_ratio' by multiplying the 'income' by 'debtinc' to see how a person's debt-to-income ratio scales with their income.\n"
   ]
  },
  {
   "cell_type": "code",
   "execution_count": 36,
   "id": "ec5f36ac",
   "metadata": {},
   "outputs": [
    {
     "name": "stdout",
     "output_type": "stream",
     "text": [
      "   age  ed  employ  address  income  debtinc   creddebt   othdebt  default  \\\n",
      "0   41   3      17       12     176      9.3  11.359392  5.008608        1   \n",
      "1   27   1      10        6      31     17.3   1.362202  4.000798        0   \n",
      "2   40   1      15       14      55      5.5   0.856075  2.168925        0   \n",
      "3   41   1      15       14     120      2.9   2.658720  0.821280        0   \n",
      "4   24   2       2        0      28     17.3   1.787436  3.056564        1   \n",
      "\n",
      "   income_debt_ratio  \n",
      "0             1636.8  \n",
      "1              536.3  \n",
      "2              302.5  \n",
      "3              348.0  \n",
      "4              484.4  \n"
     ]
    }
   ],
   "source": [
    "# Multiply 'income' and 'debtinc' to create a new column 'income_debt_ratio'\n",
    "data['income_debt_ratio'] = data['income'] * data['debtinc']\n",
    "\n",
    "# Display the first few rows to see the new 'income_debt_ratio' column\n",
    "print(data.head())"
   ]
  },
  {
   "cell_type": "code",
   "execution_count": null,
   "id": "1ce3cbd4",
   "metadata": {},
   "outputs": [],
   "source": []
  },
  {
   "cell_type": "markdown",
   "id": "fa4036c1",
   "metadata": {},
   "source": [
    "## Creating a New Column\n",
    "\n",
    "In data analysis, you often create new columns based on existing data.\n",
    "\n",
    "### Example: Debt-to-Income Ratio Category\n",
    "Let's categorize the 'debtinc' ratio into low, medium, and high categories."
   ]
  },
  {
   "cell_type": "code",
   "execution_count": 37,
   "id": "757e66b1",
   "metadata": {},
   "outputs": [
    {
     "data": {
      "text/html": [
       "<div>\n",
       "<style scoped>\n",
       "    .dataframe tbody tr th:only-of-type {\n",
       "        vertical-align: middle;\n",
       "    }\n",
       "\n",
       "    .dataframe tbody tr th {\n",
       "        vertical-align: top;\n",
       "    }\n",
       "\n",
       "    .dataframe thead th {\n",
       "        text-align: right;\n",
       "    }\n",
       "</style>\n",
       "<table border=\"1\" class=\"dataframe\">\n",
       "  <thead>\n",
       "    <tr style=\"text-align: right;\">\n",
       "      <th></th>\n",
       "      <th>age</th>\n",
       "      <th>ed</th>\n",
       "      <th>employ</th>\n",
       "      <th>address</th>\n",
       "      <th>income</th>\n",
       "      <th>debtinc</th>\n",
       "      <th>creddebt</th>\n",
       "      <th>othdebt</th>\n",
       "      <th>default</th>\n",
       "      <th>income_debt_ratio</th>\n",
       "      <th>debtinc_category</th>\n",
       "    </tr>\n",
       "  </thead>\n",
       "  <tbody>\n",
       "    <tr>\n",
       "      <th>0</th>\n",
       "      <td>41</td>\n",
       "      <td>3</td>\n",
       "      <td>17</td>\n",
       "      <td>12</td>\n",
       "      <td>176</td>\n",
       "      <td>9.3</td>\n",
       "      <td>11.359392</td>\n",
       "      <td>5.008608</td>\n",
       "      <td>1</td>\n",
       "      <td>1636.8</td>\n",
       "      <td>Low</td>\n",
       "    </tr>\n",
       "    <tr>\n",
       "      <th>1</th>\n",
       "      <td>27</td>\n",
       "      <td>1</td>\n",
       "      <td>10</td>\n",
       "      <td>6</td>\n",
       "      <td>31</td>\n",
       "      <td>17.3</td>\n",
       "      <td>1.362202</td>\n",
       "      <td>4.000798</td>\n",
       "      <td>0</td>\n",
       "      <td>536.3</td>\n",
       "      <td>Medium</td>\n",
       "    </tr>\n",
       "    <tr>\n",
       "      <th>2</th>\n",
       "      <td>40</td>\n",
       "      <td>1</td>\n",
       "      <td>15</td>\n",
       "      <td>14</td>\n",
       "      <td>55</td>\n",
       "      <td>5.5</td>\n",
       "      <td>0.856075</td>\n",
       "      <td>2.168925</td>\n",
       "      <td>0</td>\n",
       "      <td>302.5</td>\n",
       "      <td>Low</td>\n",
       "    </tr>\n",
       "    <tr>\n",
       "      <th>3</th>\n",
       "      <td>41</td>\n",
       "      <td>1</td>\n",
       "      <td>15</td>\n",
       "      <td>14</td>\n",
       "      <td>120</td>\n",
       "      <td>2.9</td>\n",
       "      <td>2.658720</td>\n",
       "      <td>0.821280</td>\n",
       "      <td>0</td>\n",
       "      <td>348.0</td>\n",
       "      <td>Low</td>\n",
       "    </tr>\n",
       "    <tr>\n",
       "      <th>4</th>\n",
       "      <td>24</td>\n",
       "      <td>2</td>\n",
       "      <td>2</td>\n",
       "      <td>0</td>\n",
       "      <td>28</td>\n",
       "      <td>17.3</td>\n",
       "      <td>1.787436</td>\n",
       "      <td>3.056564</td>\n",
       "      <td>1</td>\n",
       "      <td>484.4</td>\n",
       "      <td>Medium</td>\n",
       "    </tr>\n",
       "  </tbody>\n",
       "</table>\n",
       "</div>"
      ],
      "text/plain": [
       "   age  ed  employ  address  income  debtinc   creddebt   othdebt  default  \\\n",
       "0   41   3      17       12     176      9.3  11.359392  5.008608        1   \n",
       "1   27   1      10        6      31     17.3   1.362202  4.000798        0   \n",
       "2   40   1      15       14      55      5.5   0.856075  2.168925        0   \n",
       "3   41   1      15       14     120      2.9   2.658720  0.821280        0   \n",
       "4   24   2       2        0      28     17.3   1.787436  3.056564        1   \n",
       "\n",
       "   income_debt_ratio debtinc_category  \n",
       "0             1636.8              Low  \n",
       "1              536.3           Medium  \n",
       "2              302.5              Low  \n",
       "3              348.0              Low  \n",
       "4              484.4           Medium  "
      ]
     },
     "execution_count": 37,
     "metadata": {},
     "output_type": "execute_result"
    }
   ],
   "source": [
    "def categorize_debtinc(debtinc):\n",
    "    if debtinc < 10:\n",
    "        return 'Low'\n",
    "    elif 10 <= debtinc < 20:\n",
    "        return 'Medium'\n",
    "    else:\n",
    "        return 'High'\n",
    "\n",
    "data['debtinc_category'] = data['debtinc'].apply(categorize_debtinc)\n",
    "\n",
    "data.head()"
   ]
  },
  {
   "cell_type": "code",
   "execution_count": null,
   "id": "1391dee8",
   "metadata": {},
   "outputs": [],
   "source": []
  },
  {
   "cell_type": "markdown",
   "id": "d2898466",
   "metadata": {},
   "source": [
    "## Understanding and Handling Missing Data\n",
    "\n",
    "Missing data is a common occurrence in real-world datasets and represents the absence of data points in one or more recorded observations. This can occur for various reasons: data might not be collected properly, it might be corrupted, or the data entry could simply be overlooked. Handling missing data is crucial in data science as it can significantly impact the results of your analysis. Incorrect handling of missing data can lead to biased or inaccurate conclusions.\n",
    "\n",
    "### The Importance of Handling Missing Data\n",
    "\n",
    "- **Bias Reduction**: Proper handling can reduce bias in estimates and ensure a valid inference.\n",
    "- **Model Performance**: Machine learning models require complete datasets. Missing data handling can improve model accuracy and performance.\n",
    "- **Data Integrity**: It ensures the consistency and reliability of the dataset for analysis.\n",
    "\n",
    "### Our Approach to Missing Data\n",
    "\n",
    "Our dataset file `dataset.xlsx` currently has no missing values. To learn about missing data handling techniques, we will first artificially introduce some missing data and then apply different methods to handle it."
   ]
  },
  {
   "cell_type": "code",
   "execution_count": 38,
   "id": "08a55701",
   "metadata": {},
   "outputs": [
    {
     "name": "stdout",
     "output_type": "stream",
     "text": [
      "34\n"
     ]
    }
   ],
   "source": [
    "# Introducing Missing Data\n",
    "\n",
    "import numpy as np\n",
    "import pandas as pd\n",
    "\n",
    "# Load the dataset\n",
    "data = pd.read_excel('dataset.xlsx')\n",
    "\n",
    "# Set a random seed for reproducibility\n",
    "np.random.seed(0)\n",
    "\n",
    "# Choose a column to introduce missing values, e.g., 'income'\n",
    "missing_mask = np.random.rand(len(data)) < 0.05  # Approx 5% missing data\n",
    "\n",
    "# Introduce missing values\n",
    "data.loc[missing_mask, 'income'] = np.nan\n",
    "\n",
    "# Verify by checking the number of missing values in the column\n",
    "print(data['income'].isnull().sum())"
   ]
  },
  {
   "cell_type": "markdown",
   "id": "8644fadf",
   "metadata": {},
   "source": [
    "## Handling Missing Values\n",
    "\n",
    "Once we have introduced missing data, it's important to understand how to deal with it. There are several techniques for handling missing values, each with its own use case.\n",
    "\n",
    "### Removing Missing Values\n",
    "\n",
    "This is the simplest approach where you simply remove any row with missing data. It's quick and easy, but you lose data that could be important."
   ]
  },
  {
   "cell_type": "code",
   "execution_count": 39,
   "id": "912b718d",
   "metadata": {},
   "outputs": [
    {
     "name": "stdout",
     "output_type": "stream",
     "text": [
      "Missing values before removal:\n",
      " age          0\n",
      "ed           0\n",
      "employ       0\n",
      "address      0\n",
      "income      34\n",
      "debtinc      0\n",
      "creddebt     0\n",
      "othdebt      0\n",
      "default      0\n",
      "dtype: int64\n",
      "Missing values after removal:\n",
      " age         0\n",
      "ed          0\n",
      "employ      0\n",
      "address     0\n",
      "income      0\n",
      "debtinc     0\n",
      "creddebt    0\n",
      "othdebt     0\n",
      "default     0\n",
      "dtype: int64\n",
      "Data with missing values removed:\n",
      "   age  ed  employ  address  income  debtinc   creddebt   othdebt  default\n",
      "0   41   3      17       12   176.0      9.3  11.359392  5.008608        1\n",
      "1   27   1      10        6    31.0     17.3   1.362202  4.000798        0\n",
      "2   40   1      15       14    55.0      5.5   0.856075  2.168925        0\n",
      "3   41   1      15       14   120.0      2.9   2.658720  0.821280        0\n",
      "4   24   2       2        0    28.0     17.3   1.787436  3.056564        1\n"
     ]
    }
   ],
   "source": [
    "# Drop all rows with any missing values\n",
    "data_cleaned = data.dropna()\n",
    "\n",
    "# Verify the operation by counting missing values again\n",
    "print(\"Missing values before removal:\\n\", data.isnull().sum())\n",
    "print(\"Missing values after removal:\\n\", data_cleaned.isnull().sum())\n",
    "print(\"Data with missing values removed:\")\n",
    "print(data_cleaned.head())"
   ]
  },
  {
   "cell_type": "code",
   "execution_count": null,
   "id": "8a0ddb57",
   "metadata": {},
   "outputs": [],
   "source": []
  },
  {
   "cell_type": "markdown",
   "id": "93185d11",
   "metadata": {},
   "source": [
    "## Imputing Missing Values\n",
    "Imputation replaces missing values with substitute values, typically statistical estimates like the mean or median of the column."
   ]
  },
  {
   "cell_type": "markdown",
   "id": "91404ece",
   "metadata": {},
   "source": [
    "### Mean Imputation\n",
    "\n",
    "One common technique for handling missing values is mean imputation, where you fill in the missing data with the mean value of the entire column. This approach assumes that missing values are randomly distributed and can be reasonably estimated by the column's average.\n",
    "\n",
    "Before applying mean imputation, it's important to assess the impact by comparing the number of missing values before and after imputation, as well as checking the new mean value to ensure it's reasonable.\n",
    "\n",
    "Here's how we can apply mean imputation:"
   ]
  },
  {
   "cell_type": "code",
   "execution_count": 40,
   "id": "7668cdaf",
   "metadata": {},
   "outputs": [
    {
     "name": "stdout",
     "output_type": "stream",
     "text": [
      "Mean Income: 45.34384384384384\n",
      "Missing values before removal:\n",
      " age          0\n",
      "ed           0\n",
      "employ       0\n",
      "address      0\n",
      "income      34\n",
      "debtinc      0\n",
      "creddebt     0\n",
      "othdebt      0\n",
      "default      0\n",
      "dtype: int64\n",
      "Missing values after removal:\n",
      " age         0\n",
      "ed          0\n",
      "employ      0\n",
      "address     0\n",
      "income      0\n",
      "debtinc     0\n",
      "creddebt    0\n",
      "othdebt     0\n",
      "default     0\n",
      "dtype: int64\n",
      "Data with missing values removed:\n",
      "   age  ed  employ  address  income  debtinc   creddebt   othdebt  default\n",
      "0   41   3      17       12   176.0      9.3  11.359392  5.008608        1\n",
      "1   27   1      10        6    31.0     17.3   1.362202  4.000798        0\n",
      "2   40   1      15       14    55.0      5.5   0.856075  2.168925        0\n",
      "3   41   1      15       14   120.0      2.9   2.658720  0.821280        0\n",
      "4   24   2       2        0    28.0     17.3   1.787436  3.056564        1\n",
      "Data after mean imputation:\n",
      "    income\n",
      "0   176.0\n",
      "1    31.0\n",
      "2    55.0\n",
      "3   120.0\n",
      "4    28.0\n"
     ]
    }
   ],
   "source": [
    "# Calculate the mean of the 'income' column\n",
    "mean_income = data['income'].mean()\n",
    "\n",
    "# Display the mean value\n",
    "print(\"Mean Income:\", mean_income)\n",
    "\n",
    "print(\"Missing values before removal:\\n\", data.isnull().sum())\n",
    "\n",
    "# Replace missing values with the mean\n",
    "data['income'].fillna(mean_income, inplace=True)\n",
    "\n",
    "# Verify the operation by counting missing values again\n",
    "\n",
    "print(\"Missing values after removal:\\n\", data.isnull().sum())\n",
    "print(\"Data with missing values removed:\")\n",
    "print(data.head())\n",
    "\n",
    "# Verify the operation by displaying the updated data\n",
    "print(\"Data after mean imputation:\\n\", data[['income']].head())"
   ]
  },
  {
   "cell_type": "markdown",
   "id": "4bb27428",
   "metadata": {},
   "source": [
    "### Median Imputation\n",
    "\n",
    "Median imputation is another method for handling missing data, especially useful when the data distribution is skewed. By using the median value, we ensure that our imputation is not affected by outliers or skewed data.\n",
    "\n",
    "Similar to mean imputation, we will compare the count of missing values before and after imputation to verify the changes.\n",
    "\n",
    "Here's the process for median imputation:"
   ]
  },
  {
   "cell_type": "code",
   "execution_count": 41,
   "id": "9bbf5c58",
   "metadata": {},
   "outputs": [
    {
     "name": "stdout",
     "output_type": "stream",
     "text": [
      "Median Income: 36.0\n",
      "Missing values before removal:\n",
      " age         0\n",
      "ed          0\n",
      "employ      0\n",
      "address     0\n",
      "income      0\n",
      "debtinc     0\n",
      "creddebt    0\n",
      "othdebt     0\n",
      "default     0\n",
      "dtype: int64\n",
      "Missing values after removal:\n",
      " age         0\n",
      "ed          0\n",
      "employ      0\n",
      "address     0\n",
      "income      0\n",
      "debtinc     0\n",
      "creddebt    0\n",
      "othdebt     0\n",
      "default     0\n",
      "dtype: int64\n",
      "Data with missing values removed:\n",
      "   age  ed  employ  address  income  debtinc   creddebt   othdebt  default\n",
      "0   41   3      17       12   176.0      9.3  11.359392  5.008608        1\n",
      "1   27   1      10        6    31.0     17.3   1.362202  4.000798        0\n",
      "2   40   1      15       14    55.0      5.5   0.856075  2.168925        0\n",
      "3   41   1      15       14   120.0      2.9   2.658720  0.821280        0\n",
      "4   24   2       2        0    28.0     17.3   1.787436  3.056564        1\n",
      "Data after medain imputation:\n",
      "    income\n",
      "0   176.0\n",
      "1    31.0\n",
      "2    55.0\n",
      "3   120.0\n",
      "4    28.0\n"
     ]
    }
   ],
   "source": [
    "# Calculate the median of the 'income' column\n",
    "median_income = data['income'].median()\n",
    "\n",
    "# Display the median value\n",
    "print(\"Median Income:\", median_income)\n",
    "\n",
    "print(\"Missing values before removal:\\n\", data.isnull().sum())\n",
    "\n",
    "# Replace missing values with the median\n",
    "data['income'].fillna(median_income, inplace=True)\n",
    "\n",
    "# Verify the operation by counting missing values again\n",
    "\n",
    "print(\"Missing values after removal:\\n\", data.isnull().sum())\n",
    "print(\"Data with missing values removed:\")\n",
    "print(data.head())\n",
    "\n",
    "# Verify the operation by displaying the updated data\n",
    "print(\"Data after medain imputation:\\n\", data[['income']].head())"
   ]
  },
  {
   "cell_type": "markdown",
   "id": "605e3aaa",
   "metadata": {},
   "source": [
    "# Predictive Imputation\n",
    "\n",
    "Predictive imputation involves using statistical models to estimate missing values based on the relationships found in other, non-missing parts of your data. Unlike simpler methods such as mean or median imputation, predictive imputation can incorporate correlations between columns to make more informed guesses about the missing values. This technique is especially useful in datasets where data missingness is systematic and correlates with observable variables.\n",
    "\n",
    "## Why Use Predictive Imputation?\n",
    "\n",
    "- **Accuracy**: By leveraging patterns in the data, predictive imputation often results in more accurate estimates than mean or median imputation.\n",
    "- **Complex Relationships**: It can model complex relationships between features that simpler methods cannot.\n",
    "- **Data Retention**: It allows for the retention of valuable data points that might otherwise be discarded if rows with missing values were simply removed.\n",
    "\n",
    "Predictive imputation typically involves using machine learning algorithms such as linear regression, decision trees, or even more sophisticated methods like random forests and K-nearest neighbors, depending on the nature of the data and the missingness pattern.\n",
    "\n",
    "## Example of Predictive Imputation\n",
    "\n",
    "In the following example, we will use the K-nearest neighbors algorithm to impute missing values in the 'income' column, based on the most similar cases in the dataset."
   ]
  },
  {
   "cell_type": "code",
   "execution_count": 42,
   "id": "4ba70d8d",
   "metadata": {},
   "outputs": [
    {
     "name": "stdout",
     "output_type": "stream",
     "text": [
      "   income\n",
      "0   176.0\n",
      "1    31.0\n",
      "2    55.0\n",
      "3   120.0\n",
      "4    28.0\n"
     ]
    }
   ],
   "source": [
    "from sklearn.impute import KNNImputer\n",
    "\n",
    "# Create the imputer object with a specific number of neighbors\n",
    "imputer = KNNImputer(n_neighbors=5)\n",
    "\n",
    "# Apply imputation to the specific column(s)\n",
    "data[['income']] = imputer.fit_transform(data[['income']])\n",
    "\n",
    "# Display the data to verify the imputation\n",
    "print(data[['income']].head())"
   ]
  },
  {
   "cell_type": "code",
   "execution_count": null,
   "id": "fbfb7b34",
   "metadata": {},
   "outputs": [],
   "source": []
  },
  {
   "cell_type": "markdown",
   "id": "8f680711",
   "metadata": {},
   "source": [
    "# Understanding and Handling Outliers\n",
    "\n",
    "Outliers are data points that differ significantly from other observations. They can arise due to variability in measurement or experimental errors, and can be a common issue in real-world data. In predictive modeling, outliers can skew and mislead the training process of machine learning models resulting in longer training times, less accurate models, and ultimately poorer results.\n",
    "\n",
    "## Why are Outliers a Problem?\n",
    "\n",
    "- **Skewed Distribution**: Outliers can skew the data distribution, which can affect the assumption of many statistical models about the normality of the data.\n",
    "- **Impact on Mean and Standard Deviation**: Outliers can significantly influence the mean and standard deviation of the dataset, which are commonly used in data normalization.\n",
    "- **Effect on Model Accuracy**: They can particularly affect regression models by impacting the slope and intercept of the regression equation.\n",
    "\n",
    "## Detecting Outliers\n",
    "\n",
    "One common method of outlier detection is to use statistical tests like the Z-score or visually examine the data using box plots."
   ]
  },
  {
   "cell_type": "code",
   "execution_count": 43,
   "id": "98c62823",
   "metadata": {},
   "outputs": [
    {
     "data": {
      "image/png": "[encoded data removed]",
      "text/plain": [
       "<Figure size 640x480 with 1 Axes>"
      ]
     },
     "metadata": {},
     "output_type": "display_data"
    }
   ],
   "source": [
    "import seaborn as sns\n",
    "import matplotlib.pyplot as plt\n",
    "\n",
    "# Using a boxplot to visualize outliers in the 'income' column\n",
    "sns.boxplot(x=data['income'])\n",
    "plt.title('Boxplot for Income')\n",
    "plt.show()"
   ]
  },
  {
   "cell_type": "markdown",
   "id": "a3182386",
   "metadata": {},
   "source": [
    "## Handling Outliers\n",
    "Once detected, there are several methods to handle outliers. Two popular methods are Windsorization and applying the 1.5 IQR rule.\n",
    "\n",
    "### Windsorization\n",
    "Windsorization limits extreme values in the dataset to a specified percentile. It involves replacing the outliers with the nearest value at the percentile."
   ]
  },
  {
   "cell_type": "code",
   "execution_count": 44,
   "id": "2eb0e3e2",
   "metadata": {},
   "outputs": [
    {
     "data": {
      "image/png": "[encoded data removed]",
      "text/plain": [
       "<Figure size 1200x600 with 2 Axes>"
      ]
     },
     "metadata": {},
     "output_type": "display_data"
    }
   ],
   "source": [
    "from scipy.stats.mstats import winsorize\n",
    "\n",
    "# Applying Windsorization to the 'income' column\n",
    "data['income_winsorized'] = winsorize(data['income'], limits=[0.05, 0.05])  # 5% from both ends\n",
    "\n",
    "# Comparing the original and winsorized data with box plots\n",
    "plt.figure(figsize=(12, 6))\n",
    "plt.subplot(121)\n",
    "sns.boxplot(data['income'], color='skyblue')\n",
    "plt.title('Original Income')\n",
    "\n",
    "plt.subplot(122)\n",
    "sns.boxplot(data['income_winsorized'], color='lightgreen')\n",
    "plt.title('Winsorized Income')\n",
    "plt.show()"
   ]
  },
  {
   "cell_type": "code",
   "execution_count": null,
   "id": "b3ff949c",
   "metadata": {},
   "outputs": [],
   "source": []
  },
  {
   "cell_type": "markdown",
   "id": "1655c1a6",
   "metadata": {},
   "source": [
    "## 1.5 IQR Rule\n",
    "This rule is commonly used to cap outliers by defining limits on the data values based on the Interquartile Range (IQR). Values outside 1.5 times the IQR from the Q1 and Q3 quartile are considered outliers and are capped."
   ]
  },
  {
   "cell_type": "code",
   "execution_count": 45,
   "id": "c5c0449c",
   "metadata": {},
   "outputs": [
    {
     "data": {
      "image/png": "[encoded data removed]",
      "text/plain": [
       "<Figure size 800x400 with 1 Axes>"
      ]
     },
     "metadata": {},
     "output_type": "display_data"
    }
   ],
   "source": [
    "# Calculating IQR\n",
    "Q1 = data['income'].quantile(0.25)\n",
    "Q3 = data['income'].quantile(0.75)\n",
    "IQR = Q3 - Q1\n",
    "\n",
    "# Defining outliers\n",
    "lower_bound = Q1 - 1.5 * IQR\n",
    "upper_bound = Q3 + 1.5 * IQR\n",
    "\n",
    "# Capping outliers\n",
    "data['income_capped'] = data['income'].clip(lower=lower_bound, upper=upper_bound)\n",
    "\n",
    "# Visualizing capped data\n",
    "plt.figure(figsize=(8, 4))\n",
    "sns.boxplot(data['income_capped'], color='orange')\n",
    "plt.title('Income with Outliers Capped by 1.5 IQR Rule')\n",
    "plt.show()"
   ]
  },
  {
   "cell_type": "code",
   "execution_count": null,
   "id": "9aa355ec",
   "metadata": {},
   "outputs": [],
   "source": []
  },
  {
   "cell_type": "markdown",
   "id": "99522772",
   "metadata": {},
   "source": [
    "# Understanding and Applying Data Scaling\n",
    "\n",
    "Data scaling is a critical preprocessing step in many data analysis and machine learning contexts, especially when dealing with features that vary in magnitudes, units, and range. Proper scaling standardizes the data to a specific range and can significantly improve the performance of learning algorithms, especially those that are sensitive to the variance in data, such as SVMs and k-nearest neighbors.\n",
    "\n",
    "## Why Scale Data?\n",
    "\n",
    "- **Uniformity**: Scaling ensures that each feature contributes equally to the analysis, preventing features with larger ranges from dominating the decision-making process of learning algorithms.\n",
    "- **Improved Learning**: Many algorithms converge faster when the data is scaled.\n",
    "- **Distance Metrics**: Algorithms that rely on distance calculations, like k-nearest neighbors, require scaled data to function correctly as they are sensitive to distances in high-dimensional space.\n",
    "\n",
    "## Common Scaling Techniques\n",
    "\n",
    "We will demonstrate two popular scaling techniques: Standard Scaling and Min-Max Scaling.\n",
    "\n",
    "### Standard Scaling\n",
    "\n",
    "Standard scaling (or Z-score normalization) scales features so they have the properties of a standard normal distribution with a mean of zero and a standard deviation of one."
   ]
  },
  {
   "cell_type": "code",
   "execution_count": 46,
   "id": "1faca26d",
   "metadata": {},
   "outputs": [
    {
     "name": "stderr",
     "output_type": "stream",
     "text": [
      "/opt/anaconda3/lib/python3.11/site-packages/seaborn/_oldcore.py:1119: FutureWarning: use_inf_as_na option is deprecated and will be removed in a future version. Convert inf values to NaN before operating instead.\n",
      "  with pd.option_context('mode.use_inf_as_na', True):\n",
      "/opt/anaconda3/lib/python3.11/site-packages/seaborn/_oldcore.py:1119: FutureWarning: use_inf_as_na option is deprecated and will be removed in a future version. Convert inf values to NaN before operating instead.\n",
      "  with pd.option_context('mode.use_inf_as_na', True):\n"
     ]
    },
    {
     "data": {
      "image/png": "[encoded data removed]",
      "text/plain": [
       "<Figure size 1200x600 with 2 Axes>"
      ]
     },
     "metadata": {},
     "output_type": "display_data"
    }
   ],
   "source": [
    "from sklearn.preprocessing import StandardScaler\n",
    "import seaborn as sns\n",
    "import matplotlib.pyplot as plt\n",
    "\n",
    "# Initialize the StandardScaler\n",
    "scaler = StandardScaler()\n",
    "\n",
    "# Fit and transform the 'income' data\n",
    "income_standard_scaled = scaler.fit_transform(data[['income']])\n",
    "\n",
    "# Visualize the original and scaled data\n",
    "plt.figure(figsize=(12, 6))\n",
    "plt.subplot(121)\n",
    "sns.histplot(data['income'], kde=True, color='blue')\n",
    "plt.title('Original Income')\n",
    "\n",
    "plt.subplot(122)\n",
    "sns.histplot(income_standard_scaled, kde=True, color='green')\n",
    "plt.title('Standard Scaled Income')\n",
    "plt.show()"
   ]
  },
  {
   "cell_type": "markdown",
   "id": "2054b4a4",
   "metadata": {},
   "source": [
    "### Min-Max Scaling\n",
    "Min-Max Scaling transforms features by scaling each feature to a given range, usually 0 to 1. This is achieved by subtracting the minimum value and dividing by the range of the data."
   ]
  },
  {
   "cell_type": "code",
   "execution_count": 47,
   "id": "e13bb6ba",
   "metadata": {},
   "outputs": [
    {
     "name": "stderr",
     "output_type": "stream",
     "text": [
      "/opt/anaconda3/lib/python3.11/site-packages/seaborn/_oldcore.py:1119: FutureWarning: use_inf_as_na option is deprecated and will be removed in a future version. Convert inf values to NaN before operating instead.\n",
      "  with pd.option_context('mode.use_inf_as_na', True):\n",
      "/opt/anaconda3/lib/python3.11/site-packages/seaborn/_oldcore.py:1119: FutureWarning: use_inf_as_na option is deprecated and will be removed in a future version. Convert inf values to NaN before operating instead.\n",
      "  with pd.option_context('mode.use_inf_as_na', True):\n"
     ]
    },
    {
     "data": {
      "image/png": "[encoded data removed]",
      "text/plain": [
       "<Figure size 1200x600 with 2 Axes>"
      ]
     },
     "metadata": {},
     "output_type": "display_data"
    }
   ],
   "source": [
    "from sklearn.preprocessing import MinMaxScaler\n",
    "\n",
    "# Initialize the MinMaxScaler\n",
    "minmax_scaler = MinMaxScaler()\n",
    "\n",
    "# Fit and transform the 'income' data\n",
    "income_minmax_scaled = minmax_scaler.fit_transform(data[['income']])\n",
    "\n",
    "# Visualize the original and scaled data\n",
    "plt.figure(figsize=(12, 6))\n",
    "plt.subplot(121)\n",
    "sns.histplot(data['income'], kde=True, color='blue')\n",
    "plt.title('Original Income')\n",
    "\n",
    "plt.subplot(122)\n",
    "sns.histplot(income_minmax_scaled, kde=True, color='red')\n",
    "plt.title('Min-Max Scaled Income')\n",
    "plt.show()"
   ]
  },
  {
   "cell_type": "code",
   "execution_count": null,
   "id": "f3fc858a",
   "metadata": {},
   "outputs": [],
   "source": []
  }
 ],
 "metadata": {
  "kernelspec": {
   "display_name": "Python 3 (ipykernel)",
   "language": "python",
   "name": "python3"
  },
  "language_info": {
   "codemirror_mode": {
    "name": "ipython",
    "version": 3
   },
   "file_extension": ".py",
   "mimetype": "text/x-python",
   "name": "python",
   "nbconvert_exporter": "python",
   "pygments_lexer": "ipython3",
   "version": "3.11.5"
  }
 },
 "nbformat": 4,
 "nbformat_minor": 5
}
